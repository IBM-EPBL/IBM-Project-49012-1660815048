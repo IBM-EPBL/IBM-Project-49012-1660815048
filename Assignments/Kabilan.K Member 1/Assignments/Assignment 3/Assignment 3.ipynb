{
 "cells": [
  {
   "cell_type": "code",
   "execution_count": 1,
   "metadata": {},
   "outputs": [],
   "source": [
    "import numpy as np\n",
    "import matplotlib.pyplot as plt \n",
    "import tensorflow as tf\n",
    "import os\n",
    "import cv2\n",
    "\n"
   ]
  },
  {
   "cell_type": "code",
   "execution_count": 2,
   "metadata": {},
   "outputs": [],
   "source": [
    "import keras\n",
    "from keras.layers import (Activation, BatchNormalization, Conv2D, Dense,\n",
    "                          Dropout, Flatten, MaxPooling2D)\n",
    "from tensorflow.keras.models import Sequential\n",
    "from tensorflow.keras.layers import Convolution2D,MaxPool2D,Flatten,Dense"
   ]
  },
  {
   "cell_type": "code",
   "execution_count": 3,
   "metadata": {},
   "outputs": [],
   "source": [
    "from tensorflow.keras.preprocessing.image import ImageDataGenerator"
   ]
  },
  {
   "cell_type": "code",
   "execution_count": 4,
   "metadata": {},
   "outputs": [],
   "source": [
    "train_datagen=ImageDataGenerator(rescale=1./255,shear_range=0.2,zoom_range=0.2,horizontal_flip=True,vertical_flip=True)"
   ]
  },
  {
   "cell_type": "code",
   "execution_count": 5,
   "metadata": {},
   "outputs": [],
   "source": [
    "test_datagen=ImageDataGenerator(rescale=1./255)"
   ]
  },
  {
   "cell_type": "code",
   "execution_count": 6,
   "metadata": {},
   "outputs": [
    {
     "name": "stdout",
     "output_type": "stream",
     "text": [
      "Found 3019 images belonging to 5 classes.\n"
     ]
    }
   ],
   "source": [
    "x_train=train_datagen.flow_from_directory('flower_img/train/',target_size=(64,64),batch_size=32,class_mode='binary')"
   ]
  },
  {
   "cell_type": "code",
   "execution_count": 7,
   "metadata": {},
   "outputs": [
    {
     "name": "stdout",
     "output_type": "stream",
     "text": [
      "Found 438 images belonging to 5 classes.\n"
     ]
    }
   ],
   "source": [
    "x_test=test_datagen.flow_from_directory('flower_img/test/',target_size=(64,64),batch_size=32,class_mode='binary')"
   ]
  },
  {
   "cell_type": "code",
   "execution_count": 8,
   "metadata": {},
   "outputs": [
    {
     "data": {
      "text/plain": [
       "{'daisy': 0, 'dandelion': 1, 'rose': 2, 'sunflower': 3, 'tulip': 4}"
      ]
     },
     "execution_count": 8,
     "metadata": {},
     "output_type": "execute_result"
    }
   ],
   "source": [
    "x_train.class_indices"
   ]
  },
  {
   "cell_type": "code",
   "execution_count": 9,
   "metadata": {},
   "outputs": [],
   "source": [
    "model=Sequential()"
   ]
  },
  {
   "cell_type": "code",
   "execution_count": 10,
   "metadata": {},
   "outputs": [],
   "source": [
    "model.add(Convolution2D(32,(3,3),input_shape=(64,64,3),activation='relu'))\n",
    "model.add(MaxPool2D(pool_size=(2,2)))\n",
    "model.add(Flatten())"
   ]
  },
  {
   "cell_type": "code",
   "execution_count": 11,
   "metadata": {},
   "outputs": [],
   "source": [
    "model.add(Dense(units=300,kernel_initializer=\"random_uniform\",activation=\"elu\"))\n",
    "model.add(BatchNormalization())\n",
    "model.add(Dropout(0.3))\n",
    "model.add(Dense(units=200,kernel_initializer=\"random_uniform\",activation=\"elu\"))\n",
    "\n"
   ]
  },
  {
   "cell_type": "code",
   "execution_count": 12,
   "metadata": {},
   "outputs": [],
   "source": [
    "model.add(Dense(units=4,kernel_initializer=\"random_uniform\",activation=\"softmax\"))"
   ]
  },
  {
   "cell_type": "code",
   "execution_count": 13,
   "metadata": {},
   "outputs": [
    {
     "name": "stdout",
     "output_type": "stream",
     "text": [
      "Model: \"sequential\"\n",
      "_________________________________________________________________\n",
      "Layer (type)                 Output Shape              Param #   \n",
      "=================================================================\n",
      "conv2d (Conv2D)              (None, 62, 62, 32)        896       \n",
      "_________________________________________________________________\n",
      "max_pooling2d (MaxPooling2D) (None, 31, 31, 32)        0         \n",
      "_________________________________________________________________\n",
      "flatten (Flatten)            (None, 30752)             0         \n",
      "_________________________________________________________________\n",
      "dense (Dense)                (None, 300)               9225900   \n",
      "_________________________________________________________________\n",
      "batch_normalization (BatchNo (None, 300)               1200      \n",
      "_________________________________________________________________\n",
      "dropout (Dropout)            (None, 300)               0         \n",
      "_________________________________________________________________\n",
      "dense_1 (Dense)              (None, 200)               60200     \n",
      "_________________________________________________________________\n",
      "dense_2 (Dense)              (None, 4)                 804       \n",
      "=================================================================\n",
      "Total params: 9,289,000\n",
      "Trainable params: 9,288,400\n",
      "Non-trainable params: 600\n",
      "_________________________________________________________________\n"
     ]
    }
   ],
   "source": [
    "model.summary()"
   ]
  },
  {
   "cell_type": "code",
   "execution_count": 14,
   "metadata": {},
   "outputs": [],
   "source": [
    "from keras.optimizers import RMSprop , SGD , Adam\n",
    "from keras.callbacks import ModelCheckpoint , EarlyStopping , ReduceLROnPlateau"
   ]
  },
  {
   "cell_type": "code",
   "execution_count": 15,
   "metadata": {},
   "outputs": [],
   "source": [
    "\"\"\"\n",
    "Here we will monitor the val_loss which is minimum and saving it\n",
    "\"\"\"\n",
    "\n",
    "earlystop = EarlyStopping(monitor=\"val_loss\",\n",
    "                        min_delta=0,\n",
    "                        patience=3,\n",
    "                        restore_best_weights=True,\n",
    "                        verbose=1)\n",
    "\n",
    "\"\"\"\n",
    "Here we will monitor the val_loss whith 3 extra epoches and retain the best weighted file\n",
    "\"\"\"\n",
    "\n",
    "reduce_lr = ReduceLROnPlateau(monitor=\"val_loss\",\n",
    "                             factor=0.2,\n",
    "                             patience=3,\n",
    "                             verbose=1,\n",
    "                             min_delta=0.0001)"
   ]
  },
  {
   "cell_type": "code",
   "execution_count": 16,
   "metadata": {},
   "outputs": [],
   "source": [
    "callbacks=[earlystop,reduce_lr]\n",
    "model.compile(loss=\"binary_crossentropy\",optimizer=Adam(lr=0.01,beta_1=0.1),metrics=['accuracy'])"
   ]
  },
  {
   "cell_type": "code",
   "execution_count": 18,
   "metadata": {},
   "outputs": [
    {
     "name": "stdout",
     "output_type": "stream",
     "text": [
      "Epoch 1/25\n",
      "39/39 [==============================] - 9s 224ms/step - loss: 2.6467 - accuracy: 0.1777 - val_loss: 2.5798 - val_accuracy: 0.1656\n",
      "Epoch 2/25\n",
      "39/39 [==============================] - 8s 211ms/step - loss: 2.5585 - accuracy: 0.1851 - val_loss: 2.5656 - val_accuracy: 0.1437\n",
      "Epoch 3/25\n",
      "39/39 [==============================] - 8s 195ms/step - loss: 2.5856 - accuracy: 0.1803 - val_loss: 2.5352 - val_accuracy: 0.1469\n",
      "Epoch 4/25\n",
      "39/39 [==============================] - 7s 184ms/step - loss: 2.5145 - accuracy: 0.2086 - val_loss: 2.5167 - val_accuracy: 0.1688\n",
      "Epoch 5/25\n",
      "39/39 [==============================] - 8s 196ms/step - loss: 2.4823 - accuracy: 0.2083 - val_loss: 2.6233 - val_accuracy: 0.1719\n",
      "Epoch 6/25\n",
      "39/39 [==============================] - 8s 203ms/step - loss: 2.5633 - accuracy: 0.1891 - val_loss: 2.4480 - val_accuracy: 0.1531\n",
      "Epoch 7/25\n",
      "39/39 [==============================] - 8s 197ms/step - loss: 2.5387 - accuracy: 0.2019 - val_loss: 2.4749 - val_accuracy: 0.1031\n",
      "Epoch 8/25\n",
      "39/39 [==============================] - 7s 190ms/step - loss: 2.4814 - accuracy: 0.2051 - val_loss: 2.5401 - val_accuracy: 0.2094\n",
      "Epoch 9/25\n",
      "39/39 [==============================] - ETA: 0s - loss: 2.5557 - accuracy: 0.1980Restoring model weights from the end of the best epoch.\n",
      "\n",
      "Epoch 00009: ReduceLROnPlateau reducing learning rate to 0.0019999999552965165.\n",
      "39/39 [==============================] - 7s 189ms/step - loss: 2.5557 - accuracy: 0.1980 - val_loss: 2.5091 - val_accuracy: 0.1750\n",
      "Epoch 00009: early stopping\n"
     ]
    }
   ],
   "source": [
    "a=model.fit(x_train,steps_per_epoch=39,epochs=25,callbacks=callbacks,validation_data=x_test,validation_steps=10)"
   ]
  },
  {
   "cell_type": "code",
   "execution_count": 20,
   "metadata": {},
   "outputs": [],
   "source": [
    "model.save(\"flowers1.h5\")"
   ]
  },
  {
   "cell_type": "code",
   "execution_count": 21,
   "metadata": {},
   "outputs": [],
   "source": [
    "from tensorflow.keras.models import load_model"
   ]
  },
  {
   "cell_type": "code",
   "execution_count": 22,
   "metadata": {},
   "outputs": [],
   "source": [
    "from tensorflow.keras.preprocessing import image"
   ]
  },
  {
   "cell_type": "code",
   "execution_count": 23,
   "metadata": {},
   "outputs": [],
   "source": [
    "import numpy as np"
   ]
  },
  {
   "cell_type": "code",
   "execution_count": 26,
   "metadata": {},
   "outputs": [],
   "source": [
    "model = load_model('flowers1.h5')"
   ]
  },
  {
   "cell_type": "code",
   "execution_count": 27,
   "metadata": {},
   "outputs": [],
   "source": [
    "img=image.load_img('898102603_2d5152f09a.jpg',target_size=(64,64))"
   ]
  },
  {
   "cell_type": "code",
   "execution_count": 28,
   "metadata": {},
   "outputs": [
    {
     "data": {
      "image/png": "[encoded data removed]",
      "text/plain": [
       "<PIL.Image.Image image mode=RGB size=64x64 at 0x7FC224D9ED00>"
      ]
     },
     "execution_count": 28,
     "metadata": {},
     "output_type": "execute_result"
    }
   ],
   "source": [
    "img"
   ]
  },
  {
   "cell_type": "code",
   "execution_count": 29,
   "metadata": {},
   "outputs": [],
   "source": [
    "x=image.img_to_array(img)"
   ]
  },
  {
   "cell_type": "code",
   "execution_count": 30,
   "metadata": {},
   "outputs": [
    {
     "data": {
      "text/plain": [
       "(64, 64, 3)"
      ]
     },
     "execution_count": 30,
     "metadata": {},
     "output_type": "execute_result"
    }
   ],
   "source": [
    "x.shape"
   ]
  },
  {
   "cell_type": "code",
   "execution_count": 31,
   "metadata": {},
   "outputs": [],
   "source": [
    "x=np.expand_dims(x,axis=0)"
   ]
  },
  {
   "cell_type": "code",
   "execution_count": 32,
   "metadata": {},
   "outputs": [
    {
     "data": {
      "text/plain": [
       "array([[[[234., 252., 252.],\n",
       "         [225., 239., 240.],\n",
       "         [222., 238., 238.],\n",
       "         ...,\n",
       "         [115., 102.,  93.],\n",
       "         [113.,  96.,  88.],\n",
       "         [109.,  99.,  89.]],\n",
       "\n",
       "        [[231., 249., 249.],\n",
       "         [228., 248., 247.],\n",
       "         [231., 247., 247.],\n",
       "         ...,\n",
       "         [117., 102.,  95.],\n",
       "         [109.,  96.,  87.],\n",
       "         [104.,  96.,  85.]],\n",
       "\n",
       "        [[234., 252., 252.],\n",
       "         [227., 245., 247.],\n",
       "         [234., 250., 250.],\n",
       "         ...,\n",
       "         [111., 101.,  99.],\n",
       "         [116.,  97.,  93.],\n",
       "         [107.,  98.,  81.]],\n",
       "\n",
       "        ...,\n",
       "\n",
       "        [[232., 252., 253.],\n",
       "         [236., 254., 254.],\n",
       "         [237., 253., 253.],\n",
       "         ...,\n",
       "         [110., 105.,  99.],\n",
       "         [112., 111., 109.],\n",
       "         [112., 107., 104.]],\n",
       "\n",
       "        [[232., 253., 255.],\n",
       "         [231., 251., 252.],\n",
       "         [234., 252., 252.],\n",
       "         ...,\n",
       "         [112., 108., 105.],\n",
       "         [111., 109., 110.],\n",
       "         [111., 106., 102.]],\n",
       "\n",
       "        [[229., 249., 250.],\n",
       "         [233., 252., 255.],\n",
       "         [231., 252., 253.],\n",
       "         ...,\n",
       "         [112., 112., 104.],\n",
       "         [113., 114., 108.],\n",
       "         [111., 107., 108.]]]], dtype=float32)"
      ]
     },
     "execution_count": 32,
     "metadata": {},
     "output_type": "execute_result"
    }
   ],
   "source": [
    "x"
   ]
  },
  {
   "cell_type": "code",
   "execution_count": 33,
   "metadata": {},
   "outputs": [],
   "source": [
    "pred_prob=model.predict(x)"
   ]
  },
  {
   "cell_type": "code",
   "execution_count": 34,
   "metadata": {},
   "outputs": [
    {
     "data": {
      "text/plain": [
       "array([[5.6149550e-03, 1.4416267e-15, 1.9780206e-03, 9.9240702e-01]],\n",
       "      dtype=float32)"
      ]
     },
     "execution_count": 34,
     "metadata": {},
     "output_type": "execute_result"
    }
   ],
   "source": [
    "pred_prob"
   ]
  },
  {
   "cell_type": "code",
   "execution_count": 36,
   "metadata": {},
   "outputs": [],
   "source": [
    "class_name=['daisy','dandelion','rose','sunflower','tulip']"
   ]
  },
  {
   "cell_type": "code",
   "execution_count": 37,
   "metadata": {},
   "outputs": [],
   "source": [
    "pred_id=pred_prob.argmax(axis=1)[0]"
   ]
  },
  {
   "cell_type": "code",
   "execution_count": 38,
   "metadata": {},
   "outputs": [
    {
     "data": {
      "text/plain": [
       "3"
      ]
     },
     "execution_count": 38,
     "metadata": {},
     "output_type": "execute_result"
    }
   ],
   "source": [
    "pred_id"
   ]
  },
  {
   "cell_type": "code",
   "execution_count": 40,
   "metadata": {},
   "outputs": [
    {
     "name": "stdout",
     "output_type": "stream",
     "text": [
      "Predicted flower is sunflower\n"
     ]
    }
   ],
   "source": [
    "print('Predicted flower is',str(class_name[pred_id]))"
   ]
  }
 ],
 "metadata": {
  "kernelspec": {
   "display_name": "Python 3",
   "language": "python",
   "name": "python3"
  },
  "language_info": {
   "codemirror_mode": {
    "name": "ipython",
    "version": 3
   },
   "file_extension": ".py",
   "mimetype": "text/x-python",
   "name": "python",
   "nbconvert_exporter": "python",
   "pygments_lexer": "ipython3",
   "version": "3.8.3"
  }
 },
 "nbformat": 4,
 "nbformat_minor": 4
}
